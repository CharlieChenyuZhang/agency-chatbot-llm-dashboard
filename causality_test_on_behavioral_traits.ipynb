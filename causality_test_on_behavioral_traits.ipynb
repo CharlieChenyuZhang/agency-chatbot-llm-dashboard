{
  "cells": [
    {
      "cell_type": "markdown",
      "metadata": {},
      "source": [
        "# Causality Testing for Behavioral Traits\n",
        "\n",
        "This notebook tests causal interventions on behavioral traits: Rigidity, Independence, and Goal Persistence.\n"
      ]
    }
  ],
  "metadata": {
    "language_info": {
      "name": "python"
    }
  },
  "nbformat": 4,
  "nbformat_minor": 2
}
